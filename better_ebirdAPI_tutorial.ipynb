{
 "cells": [
  {
   "cell_type": "markdown",
   "id": "43f98d46-8091-4325-aa41-2ea4af4681a6",
   "metadata": {},
   "source": [
    "# Welcome to better ebird API"
   ]
  },
  {
   "cell_type": "markdown",
   "id": "cbbfb752-75bc-467c-b16b-5f55e66798d0",
   "metadata": {},
   "source": [
    "this is a fun lab that is "
   ]
  },
  {
   "cell_type": "markdown",
   "id": "732350fb-a053-4b25-8e4a-d4ee1d386e16",
   "metadata": {},
   "source": [
    "Install and import the following packages "
   ]
  },
  {
   "cell_type": "code",
   "execution_count": 2,
   "id": "836f0f47-9837-4fb6-a564-164f52db5594",
   "metadata": {},
   "outputs": [
    {
     "name": "stderr",
     "output_type": "stream",
     "text": [
      "/Users/laurenfitzgerald/Desktop/geog464/venv3.11.1/lib/python3.11/site-packages/geopandas/_compat.py:123: UserWarning: The Shapely GEOS version (3.11.1-CAPI-1.17.1) is incompatible with the GEOS version PyGEOS was compiled with (3.10.4-CAPI-1.16.2). Conversions between both will be slow.\n",
      "  warnings.warn(\n",
      "/var/folders/8d/r4tft4n531l4mrzp4lvnytsm0000gn/T/ipykernel_86294/3642698031.py:3: UserWarning: Shapely 2.0 is installed, but because PyGEOS is also installed, GeoPandas will still use PyGEOS by default for now. To force to use and test Shapely 2.0, you have to set the environment variable USE_PYGEOS=0. You can do this before starting the Python process, or in your code before importing geopandas:\n",
      "\n",
      "import os\n",
      "os.environ['USE_PYGEOS'] = '0'\n",
      "import geopandas\n",
      "\n",
      "In a future release, GeoPandas will switch to using Shapely by default. If you are using PyGEOS directly (calling PyGEOS functions on geometries from GeoPandas), this will then stop working and you are encouraged to migrate from PyGEOS to Shapely 2.0 (https://shapely.readthedocs.io/en/latest/migration_pygeos.html).\n",
      "  import geopandas as gpd\n"
     ]
    }
   ],
   "source": [
    "import pandas as pd\n",
    "import geopandas as gpd\n",
    "import requests\n",
    "import json\n",
    "import folium\n"
   ]
  },
  {
   "cell_type": "code",
   "execution_count": 74,
   "id": "f087d254-8e00-4abc-b8be-04838ba2d640",
   "metadata": {},
   "outputs": [],
   "source": [
    "# Define all necessary API and CX keys\n",
    "# if you dont have access to google API that is okay, you just wont be able to use the functions coded with 'GAPI'\n",
    "google_apikey = \"paste your google api key here\"\n",
    "google_CX = \"paste your google CX here\"\n",
    "ebird_api_key = 'your ebird api key'"
   ]
  },
  {
   "cell_type": "markdown",
   "id": "0fa530fc-cf7b-4d33-b9e2-1034010df0db",
   "metadata": {},
   "source": [
    "First import the csv file with all the information on world birds."
   ]
  },
  {
   "cell_type": "code",
   "execution_count": null,
   "id": "39c9956a-f79d-43c4-ae53-7ff5fa3ed910",
   "metadata": {},
   "outputs": [
    {
     "data": {
      "text/html": [
       "<div>\n",
       "<style scoped>\n",
       "    .dataframe tbody tr th:only-of-type {\n",
       "        vertical-align: middle;\n",
       "    }\n",
       "\n",
       "    .dataframe tbody tr th {\n",
       "        vertical-align: top;\n",
       "    }\n",
       "\n",
       "    .dataframe thead th {\n",
       "        text-align: right;\n",
       "    }\n",
       "</style>\n",
       "<table border=\"1\" class=\"dataframe\">\n",
       "  <thead>\n",
       "    <tr style=\"text-align: right;\">\n",
       "      <th></th>\n",
       "      <th>species_code</th>\n",
       "      <th>alt_full_spp_code</th>\n",
       "      <th>n_locations</th>\n",
       "      <th>scientific_name</th>\n",
       "      <th>american_english_name</th>\n",
       "      <th>nom_francais_canadien</th>\n",
       "      <th>nombre_espanol_mexicano</th>\n",
       "      <th>taxonomy_version</th>\n",
       "      <th>taxonomic_sort_order</th>\n",
       "    </tr>\n",
       "  </thead>\n",
       "  <tbody>\n",
       "    <tr>\n",
       "      <th>0</th>\n",
       "      <td>grerhe1</td>\n",
       "      <td>NaN</td>\n",
       "      <td>1</td>\n",
       "      <td>Rhea americana</td>\n",
       "      <td>Greater Rhea</td>\n",
       "      <td>Nandou d'Amérique</td>\n",
       "      <td>Ñandú Común</td>\n",
       "      <td>2021.01</td>\n",
       "      <td>8</td>\n",
       "    </tr>\n",
       "    <tr>\n",
       "      <th>1</th>\n",
       "      <td>gretin1</td>\n",
       "      <td>NaN</td>\n",
       "      <td>3</td>\n",
       "      <td>Tinamus major</td>\n",
       "      <td>Great Tinamou</td>\n",
       "      <td>Grand Tinamou</td>\n",
       "      <td>Tinamú Mayor</td>\n",
       "      <td>2021.01</td>\n",
       "      <td>39</td>\n",
       "    </tr>\n",
       "    <tr>\n",
       "      <th>2</th>\n",
       "      <td>wfwduc1</td>\n",
       "      <td>NaN</td>\n",
       "      <td>1</td>\n",
       "      <td>Dendrocygna viduata</td>\n",
       "      <td>White-faced Whistling-Duck</td>\n",
       "      <td>Dendrocygne veuf</td>\n",
       "      <td>Pijije Cariblanco</td>\n",
       "      <td>2021.01</td>\n",
       "      <td>219</td>\n",
       "    </tr>\n",
       "    <tr>\n",
       "      <th>3</th>\n",
       "      <td>bbwduc</td>\n",
       "      <td>NaN</td>\n",
       "      <td>65</td>\n",
       "      <td>Dendrocygna autumnalis</td>\n",
       "      <td>Black-bellied Whistling-Duck</td>\n",
       "      <td>Dendrocygne à ventre noir</td>\n",
       "      <td>Pijije Alas Blancas</td>\n",
       "      <td>2021.01</td>\n",
       "      <td>221</td>\n",
       "    </tr>\n",
       "    <tr>\n",
       "      <th>4</th>\n",
       "      <td>fuwduc</td>\n",
       "      <td>NaN</td>\n",
       "      <td>2</td>\n",
       "      <td>Dendrocygna bicolor</td>\n",
       "      <td>Fulvous Whistling-Duck</td>\n",
       "      <td>Dendrocygne fauve</td>\n",
       "      <td>Pijije Canelo</td>\n",
       "      <td>2021.01</td>\n",
       "      <td>226</td>\n",
       "    </tr>\n",
       "    <tr>\n",
       "      <th>...</th>\n",
       "      <td>...</td>\n",
       "      <td>...</td>\n",
       "      <td>...</td>\n",
       "      <td>...</td>\n",
       "      <td>...</td>\n",
       "      <td>...</td>\n",
       "      <td>...</td>\n",
       "      <td>...</td>\n",
       "      <td>...</td>\n",
       "    </tr>\n",
       "    <tr>\n",
       "      <th>1067</th>\n",
       "      <td>whcsee1</td>\n",
       "      <td>NaN</td>\n",
       "      <td>1</td>\n",
       "      <td>Sporophila morelleti</td>\n",
       "      <td>Morelet's Seedeater</td>\n",
       "      <td>Sporophile de Morelet</td>\n",
       "      <td>Semillero de Collar</td>\n",
       "      <td>2021.01</td>\n",
       "      <td>34424</td>\n",
       "    </tr>\n",
       "    <tr>\n",
       "      <th>1068</th>\n",
       "      <td>whcsee2</td>\n",
       "      <td>NaN</td>\n",
       "      <td>1</td>\n",
       "      <td>Sporophila torqueola</td>\n",
       "      <td>Cinnamon-rumped Seedeater</td>\n",
       "      <td>Sporophile à col blanc</td>\n",
       "      <td>Semillero Rabadilla Canela</td>\n",
       "      <td>2021.01</td>\n",
       "      <td>34427</td>\n",
       "    </tr>\n",
       "    <tr>\n",
       "      <th>1069</th>\n",
       "      <td>whcsee</td>\n",
       "      <td>NaN</td>\n",
       "      <td>3</td>\n",
       "      <td>Sporophila morelleti/torqueola</td>\n",
       "      <td>Morelet's/Cinnamon-rumped Seedeater</td>\n",
       "      <td>Sporophile de Morelet ou S. à col blanc</td>\n",
       "      <td>Semillero Semillero de Collar/Rabadilla Canela</td>\n",
       "      <td>2021.01</td>\n",
       "      <td>34430</td>\n",
       "    </tr>\n",
       "    <tr>\n",
       "      <th>1070</th>\n",
       "      <td>grasal2</td>\n",
       "      <td>NaN</td>\n",
       "      <td>1</td>\n",
       "      <td>Saltator grandis</td>\n",
       "      <td>Cinnamon-bellied Saltator</td>\n",
       "      <td>Saltator du Mexique</td>\n",
       "      <td>Saltador Gris Mesoamericano</td>\n",
       "      <td>2021.01</td>\n",
       "      <td>34654</td>\n",
       "    </tr>\n",
       "    <tr>\n",
       "      <th>1071</th>\n",
       "      <td>passer1</td>\n",
       "      <td>NaN</td>\n",
       "      <td>1</td>\n",
       "      <td>Passeriformes sp.</td>\n",
       "      <td>passerine sp.</td>\n",
       "      <td>Passereau sp.</td>\n",
       "      <td>Pájaro sp.</td>\n",
       "      <td>2021.01</td>\n",
       "      <td>34699</td>\n",
       "    </tr>\n",
       "  </tbody>\n",
       "</table>\n",
       "<p>1072 rows × 9 columns</p>\n",
       "</div>"
      ],
      "text/plain": [
       "     species_code alt_full_spp_code  n_locations  \\\n",
       "0         grerhe1               NaN            1   \n",
       "1         gretin1               NaN            3   \n",
       "2         wfwduc1               NaN            1   \n",
       "3          bbwduc               NaN           65   \n",
       "4          fuwduc               NaN            2   \n",
       "...           ...               ...          ...   \n",
       "1067      whcsee1               NaN            1   \n",
       "1068      whcsee2               NaN            1   \n",
       "1069       whcsee               NaN            3   \n",
       "1070      grasal2               NaN            1   \n",
       "1071      passer1               NaN            1   \n",
       "\n",
       "                     scientific_name                american_english_name  \\\n",
       "0                     Rhea americana                         Greater Rhea   \n",
       "1                      Tinamus major                        Great Tinamou   \n",
       "2                Dendrocygna viduata           White-faced Whistling-Duck   \n",
       "3             Dendrocygna autumnalis         Black-bellied Whistling-Duck   \n",
       "4                Dendrocygna bicolor               Fulvous Whistling-Duck   \n",
       "...                              ...                                  ...   \n",
       "1067            Sporophila morelleti                  Morelet's Seedeater   \n",
       "1068            Sporophila torqueola            Cinnamon-rumped Seedeater   \n",
       "1069  Sporophila morelleti/torqueola  Morelet's/Cinnamon-rumped Seedeater   \n",
       "1070                Saltator grandis            Cinnamon-bellied Saltator   \n",
       "1071               Passeriformes sp.                        passerine sp.   \n",
       "\n",
       "                        nom_francais_canadien  \\\n",
       "0                           Nandou d'Amérique   \n",
       "1                               Grand Tinamou   \n",
       "2                            Dendrocygne veuf   \n",
       "3                   Dendrocygne à ventre noir   \n",
       "4                           Dendrocygne fauve   \n",
       "...                                       ...   \n",
       "1067                    Sporophile de Morelet   \n",
       "1068                   Sporophile à col blanc   \n",
       "1069  Sporophile de Morelet ou S. à col blanc   \n",
       "1070                      Saltator du Mexique   \n",
       "1071                            Passereau sp.   \n",
       "\n",
       "                             nombre_espanol_mexicano  taxonomy_version  \\\n",
       "0                                        Ñandú Común           2021.01   \n",
       "1                                       Tinamú Mayor           2021.01   \n",
       "2                                  Pijije Cariblanco           2021.01   \n",
       "3                                Pijije Alas Blancas           2021.01   \n",
       "4                                      Pijije Canelo           2021.01   \n",
       "...                                              ...               ...   \n",
       "1067                             Semillero de Collar           2021.01   \n",
       "1068                      Semillero Rabadilla Canela           2021.01   \n",
       "1069  Semillero Semillero de Collar/Rabadilla Canela           2021.01   \n",
       "1070                     Saltador Gris Mesoamericano           2021.01   \n",
       "1071                                      Pájaro sp.           2021.01   \n",
       "\n",
       "      taxonomic_sort_order  \n",
       "0                        8  \n",
       "1                       39  \n",
       "2                      219  \n",
       "3                      221  \n",
       "4                      226  \n",
       "...                    ...  \n",
       "1067                 34424  \n",
       "1068                 34427  \n",
       "1069                 34430  \n",
       "1070                 34654  \n",
       "1071                 34699  \n",
       "\n",
       "[1072 rows x 9 columns]"
      ]
     },
     "execution_count": 4,
     "metadata": {},
     "output_type": "execute_result"
    }
   ],
   "source": [
    "# read the following csv file. this is necessary for the following fuctions: com_to_sci, sci_to_com, list_types\n",
    "species_data = pd.read_csv(\"PFW-species-translation-table.csv\")\n",
    "species_data"
   ]
  },
  {
   "cell_type": "markdown",
   "id": "82787bd2-3229-4e83-9319-8ff1a8ca58cf",
   "metadata": {},
   "source": [
    "### Now that we have the data we can define and run functions based off of it!"
   ]
  },
  {
   "cell_type": "markdown",
   "id": "6301bfb7-b43b-4aca-b3fb-f1fa2455e188",
   "metadata": {},
   "source": [
    "This first function can be used to retive the scientific name of the bird using the common name as the input"
   ]
  },
  {
   "cell_type": "code",
   "execution_count": 24,
   "id": "15e85d18-0ef9-4d6a-a206-8b020b82f1ae",
   "metadata": {},
   "outputs": [],
   "source": [
    "def com_to_sci(common_name):\n",
    "    # make it not case sensitve \n",
    "    common_name = common_name.lower()\n",
    "    scientific_name = species_data.loc[species_data['american_english_name'].str.lower() == common_name, 'scientific_name'].values[0]\n",
    "    return scientific_name\n",
    "    "
   ]
  },
  {
   "cell_type": "code",
   "execution_count": 25,
   "id": "666e7601-9f16-49d4-8fb3-40d5fc86630e",
   "metadata": {},
   "outputs": [
    {
     "data": {
      "text/plain": [
       "'Troglodytes aedon'"
      ]
     },
     "execution_count": 25,
     "metadata": {},
     "output_type": "execute_result"
    }
   ],
   "source": [
    "# test it out by inputting any common bird name into the code such as \"house wren\"\n",
    "com_to_sci('house wren')"
   ]
  },
  {
   "cell_type": "code",
   "execution_count": 26,
   "id": "9e637e32-3b25-4e2e-961f-3a7cafb193c4",
   "metadata": {},
   "outputs": [],
   "source": [
    "# try it yourself! (remove # from the next line)\n",
    "# com_to_sci(\"instert common bird name here\")"
   ]
  },
  {
   "cell_type": "markdown",
   "id": "ea4428ae-18b0-4f73-abc2-df67d7bfde49",
   "metadata": {},
   "source": [
    "This next function is the reverse of **com_to_sci**, It can be used to retive the common name of the bird using the scientific name as the input"
   ]
  },
  {
   "cell_type": "code",
   "execution_count": 27,
   "id": "3beadc20-a8bf-44f4-a60b-f3eb1912da38",
   "metadata": {},
   "outputs": [],
   "source": [
    "def sci_to_com(scientific_name):\n",
    "    scientific_name = scientific_name.lower()\n",
    "    common_name = species_data.loc[species_data['scientific_name'].str.lower() == scientific_name, 'american_english_name'].values[0]\n",
    "    return(common_name)\n"
   ]
  },
  {
   "cell_type": "code",
   "execution_count": 28,
   "id": "c47581a8-f827-4e21-ae43-5275d7eec4f0",
   "metadata": {},
   "outputs": [
    {
     "data": {
      "text/plain": [
       "'House Wren'"
      ]
     },
     "execution_count": 28,
     "metadata": {},
     "output_type": "execute_result"
    }
   ],
   "source": [
    "# test it out by inputting any scientific bird name into the code such as \"Troglodytes aedon\"\n",
    "sci_to_com('Troglodytes aedon')"
   ]
  },
  {
   "cell_type": "code",
   "execution_count": 29,
   "id": "c93bd1a1-b1a6-40f3-9935-35501b0db46c",
   "metadata": {},
   "outputs": [],
   "source": [
    "# try it yourself! (remove # from the next line)\n",
    "# sci_to_com(\"instert common bird name here\")"
   ]
  },
  {
   "cell_type": "markdown",
   "id": "5138ba47-8b10-4927-96bc-b397eb40fc12",
   "metadata": {},
   "source": [
    "The third function **list_types** finds matching names and returns a list of all the speices that contain a specified word such as \"duck\" or \"wren\" "
   ]
  },
  {
   "cell_type": "code",
   "execution_count": 30,
   "id": "1920b086-3e98-4eea-968f-29178f273a5e",
   "metadata": {},
   "outputs": [],
   "source": [
    "def list_types(sub_species):\n",
    "    matching_names = species_data[species_data['american_english_name'].str.contains(sub_species, case=False)]['american_english_name'].tolist()\n",
    "    return matching_names"
   ]
  },
  {
   "cell_type": "code",
   "execution_count": 65,
   "id": "2421a07a-3d26-43fe-a06b-f9cbe44e60f7",
   "metadata": {},
   "outputs": [
    {
     "data": {
      "text/plain": [
       "['Ruby-topaz Hummingbird',\n",
       " \"Rivoli's Hummingbird\",\n",
       " 'Lucifer Hummingbird',\n",
       " 'Ruby-throated Hummingbird',\n",
       " 'Black-chinned Hummingbird',\n",
       " 'Ruby-throated/Black-chinned Hummingbird',\n",
       " \"Anna's Hummingbird\",\n",
       " \"Costa's Hummingbird\",\n",
       " \"Anna's x Costa's Hummingbird (hybrid)\",\n",
       " \"Anna's/Costa's Hummingbird\",\n",
       " 'Calliope Hummingbird',\n",
       " \"Anna's x Calliope Hummingbird (hybrid)\",\n",
       " 'Rufous Hummingbird',\n",
       " \"Allen's Hummingbird\",\n",
       " \"Rufous/Allen's Hummingbird\",\n",
       " 'Broad-tailed Hummingbird',\n",
       " 'Broad-billed Hummingbird',\n",
       " 'White-eared Hummingbird',\n",
       " 'Violet-crowned Hummingbird',\n",
       " 'Berylline Hummingbird',\n",
       " 'Cinnamon Hummingbird',\n",
       " 'Buff-bellied Hummingbird',\n",
       " 'Rufous-tailed Hummingbird',\n",
       " 'White-throated Hummingbird',\n",
       " 'hummingbird sp.']"
      ]
     },
     "execution_count": 65,
     "metadata": {},
     "output_type": "execute_result"
    }
   ],
   "source": [
    "# test it out by inputting any type of bird such as robin\n",
    "list_types(\"hummingbird\")"
   ]
  },
  {
   "cell_type": "markdown",
   "id": "b8bf8c21-6a50-47a4-b2be-12909520f497",
   "metadata": {},
   "source": [
    "## Using Beautiful Soup to scrape websites "
   ]
  },
  {
   "cell_type": "markdown",
   "id": "6e7b415b-6371-479d-a0f3-88589a523d74",
   "metadata": {},
   "source": [
    "the following functions use [BeautifulSoup](https://www.crummy.com/software/BeautifulSoup/bs4/doc/) this python libary is used pulls information from html websites.\n",
    "\n",
    "To use beauiful soup, you must locate the infomration you want to pull using \"inspect\" to find the div name"
   ]
  },
  {
   "cell_type": "code",
   "execution_count": 33,
   "id": "35340048-b36b-491e-a011-0116aaf27f78",
   "metadata": {},
   "outputs": [],
   "source": [
    "# if its not already installed do the following:\n",
    "# !pip install bs4"
   ]
  },
  {
   "cell_type": "code",
   "execution_count": 34,
   "id": "b98c4c62-17f0-41ee-bff5-608baf5decde",
   "metadata": {},
   "outputs": [],
   "source": [
    "#import the following:\n",
    "import bs4\n",
    "from bs4 import BeautifulSoup\n",
    "import requests"
   ]
  },
  {
   "cell_type": "markdown",
   "id": "91482902-eacd-4f10-98ec-6e7b69226533",
   "metadata": {},
   "source": [
    "The first function will pull information from [The Audubon Bird Guide](https://www.audubon.org/bird-guide). This guide has access to all the birds in North America\n",
    "\n",
    "The website url is set up like this \n",
    "https://www.audubon.org/field-guide/bird/aberts-towhee\n",
    "\n",
    "As you can see from the link above, the common name of the bird is at the end and any spaces in the name are replaced with a '-'. "
   ]
  },
  {
   "cell_type": "code",
   "execution_count": 35,
   "id": "fecd4080-b062-4e0a-aa3f-9738421f2c54",
   "metadata": {},
   "outputs": [],
   "source": [
    "def com_des(common_name):\n",
    "    # we must replace all spaces with a '-' for the function to work\n",
    "    common_name = common_name.replace(\" \", \"-\")\n",
    "    # we know the common name goes at the end based off of exploring the website\n",
    "    url = f\"https://www.audubon.org/field-guide/bird/{common_name}\"\n",
    "    response = requests.get(url)\n",
    "    soup = BeautifulSoup(response.text, \"html.parser\")\n",
    "    # by inspecting the website we know where the desription of the bird is located\n",
    "    bird_div = soup.find(\"div\", class_=\"bird_discussion\")\n",
    "    if bird_div is not None:\n",
    "        return bird_div.text.strip()\n",
    "    else:\n",
    "        return \"Bird not found on Audubon Bird Guide. The guide only has access to birds of North America. If the bird is in North America, check spelling\"\n"
   ]
  },
  {
   "cell_type": "code",
   "execution_count": 44,
   "id": "55a9c817-5f4e-449d-9c26-007f294087ec",
   "metadata": {},
   "outputs": [],
   "source": [
    "# test it out \n",
    "#com_des(\"mallard\")"
   ]
  },
  {
   "cell_type": "markdown",
   "id": "f340f793-eade-452d-bf26-049cdff6b9a1",
   "metadata": {},
   "source": [
    "What if we want to find a bird out side of North America? \n",
    "\n",
    "The following function pulls information from [picturebirdai.com/](https://picturebirdai.com/) this website has access to all the birds of the world! \n",
    "\n",
    "The website url is set up like this: https://picturebirdai.com/wiki/Amazilia_yucatanensis.html\n",
    "\n",
    "As we can see from the link above, the scientific name is at the and and any space in the name are replace with a \"_\""
   ]
  },
  {
   "cell_type": "code",
   "execution_count": 43,
   "id": "7ec0f4c1-1dab-437b-a479-cf45c8dec3ab",
   "metadata": {},
   "outputs": [],
   "source": [
    "def sci_des(scientific_name):\n",
    "    # we must replace all spaces with a '_' for the function to work\n",
    "    scientific_name = scientific_name.replace(\" \", \"_\")\n",
    "     # we know the scientific name is inputted at the end and followed by a \".html\" by exploring the website \n",
    "    url = f\"https://picturebirdai.com/wiki/{scientific_name}.html\"\n",
    "    response = requests.get(url)\n",
    "    soup = BeautifulSoup(response.text, \"html.parser\")\n",
    "    # by inspecting the website we know where the desription of the bird is located\n",
    "    bird_div = soup.find(\"div\", {\"id\": \"description-content\"})\n",
    "    if bird_div is not None:\n",
    "        field_value_div = bird_div.find(\"div\", {\"class\": \"field_value_description\"})\n",
    "        if field_value_div is not None:\n",
    "            div = field_value_div.find(\"div\")\n",
    "            if div is not None:\n",
    "                return div.text.strip()\n",
    "            return \"Bird not found. Make sure you are inputting the proper scientific name. Use function com_to_sci to get the proper name\"\n"
   ]
  },
  {
   "cell_type": "code",
   "execution_count": 46,
   "id": "8b4b3a22-1c9b-4c86-b4e6-6db00cf45f9c",
   "metadata": {},
   "outputs": [],
   "source": [
    "# test it out!\n",
    "# if you  dont know the scientific name of the bird you want use the function com_to_sci \n",
    "# example\n",
    "#com_des(\"Anas platyrhynchos\")"
   ]
  },
  {
   "cell_type": "markdown",
   "id": "d1bfef4d-4f20-459f-bdf8-2ecbc72ec6aa",
   "metadata": {},
   "source": [
    "Lets combine these functions! Lets define a function called **bird_description** which will take the common name as input and search [The Audubon Bird Guide](https://www.audubon.org/bird-guide), if nothing is found it will then search [picturebirdai.com](https://picturebirdai.com/). \n",
    "\n",
    "This function will use **com_to_sci** to convert the common name in order it to be searched in **picturebirdai.com** if it isnt found in **The Audubon Bird Guide**"
   ]
  },
  {
   "cell_type": "code",
   "execution_count": 47,
   "id": "b8589440-be61-438e-93a1-d3ecc2bda714",
   "metadata": {},
   "outputs": [],
   "source": [
    "def bird_description(common_name):\n",
    "    common_name1 = common_name.replace(\" \", \"-\")\n",
    "    url = f\"https://www.audubon.org/field-guide/bird/{common_name1}\"\n",
    "    response = requests.get(url)\n",
    "    soup = BeautifulSoup(response.text, \"html.parser\")\n",
    "    bird_div = soup.find(\"div\", class_=\"bird_discussion\")\n",
    "    if bird_div is not None:\n",
    "        return bird_div.text.strip()\n",
    "    else:\n",
    "        scientific_name = com_to_sci(common_name)\n",
    "        if scientific_name is not None:\n",
    "            scientific_name1 = scientific_name.replace(\" \", \"_\")\n",
    "            url = f\"https://picturebirdai.com/wiki/{scientific_name1}.html\"\n",
    "            response = requests.get(url)\n",
    "            soup = BeautifulSoup(response.text, \"html.parser\")\n",
    "            bird_div = soup.find(\"div\", {\"id\": \"description-content\"})\n",
    "            if bird_div is not None:\n",
    "                field_value_div = bird_div.find(\"div\", {\"class\": \"field_value_description\"})\n",
    "                if field_value_div is not None:\n",
    "                    div = field_value_div.find(\"div\")\n",
    "                    if div is not None:\n",
    "                        return div.text.strip()\n",
    "            return \"Bird not found. Make sure you are inputting the proper scientific name. Use function com_to_sci to get the proper name\"\n",
    "        else:\n",
    "            return \"Bird not found\""
   ]
  },
  {
   "cell_type": "code",
   "execution_count": 66,
   "id": "50cb4cd3-49a3-49d7-ba58-671e72650a9f",
   "metadata": {},
   "outputs": [
    {
     "data": {
      "text/plain": [
       "\"Allen's hummingbird (Selasphorus sasin) is a species of hummingbird. It is a small bird, with mature adults reaching only 3 to 3.5 in (76 to 89 mm) in length. The male has a green back and forehead, with rust-colored (rufous) flanks, rump, and tail. The male's throat is an iridescent orange-red. The female and immature Allen's hummingbirds are similarly colored, but lack the iridescent throat patch, instead having a series of speckles on their throats. Females are mostly green, featuring rufous color only on the tail, which also has white tips. Immature Allen's hummingbirds are so similar to the female rufous hummingbird, the two are almost indistinguishable in the field. Both species' breeding seasons and ranges are common factors used to differentiate between the two species in a particular geographical area.\""
      ]
     },
     "execution_count": 66,
     "metadata": {},
     "output_type": "execute_result"
    }
   ],
   "source": [
    "# test it out!\n",
    "bird_description(\"Allen's Hummingbird\")"
   ]
  },
  {
   "cell_type": "markdown",
   "id": "4fa2ac57-8587-425c-8742-2d6b92249192",
   "metadata": {},
   "source": [
    "# Explore the ebird API!"
   ]
  },
  {
   "cell_type": "markdown",
   "id": "fb721679-bf91-47f8-9b3f-bf2f120f101e",
   "metadata": {},
   "source": [
    "This function retieves the data from the ebird API about a specifed species using the scientfic name as the input"
   ]
  },
  {
   "cell_type": "code",
   "execution_count": 62,
   "id": "97f885a5-ea48-4a5e-b8a3-d57ed0d278a8",
   "metadata": {},
   "outputs": [],
   "source": [
    "def retrieve_species_data(scientific_name):\n",
    "    url = \"https://api.ebird.org/v2/ref/taxonomy/ebird\"\n",
    "    params = {\n",
    "        \"fmt\": \"json\",\n",
    "        \"locale\": \"en\",\n",
    "        \"species\": scientific_name\n",
    "    }\n",
    "    headers = {\n",
    "        \"X-eBirdApiToken\": ebird_api_key\n",
    "    }\n",
    "    response = requests.get(url, params=params, headers=headers)\n",
    "    data = response.json()\n",
    "    if data:\n",
    "        return data[0]\n",
    "    else:\n",
    "        return None"
   ]
  },
  {
   "cell_type": "markdown",
   "id": "8d43867d-2803-4aac-8872-234888cde653",
   "metadata": {},
   "source": [
    "# Retiving Images!"
   ]
  },
  {
   "cell_type": "code",
   "execution_count": null,
   "id": "236a4457-b32b-4a6f-bedf-9ac0f58429d4",
   "metadata": {},
   "outputs": [],
   "source": [
    "#Import the following \n",
    "import IPython \n",
    "from IPython.display import Image"
   ]
  },
  {
   "cell_type": "markdown",
   "id": "c990b12a-1457-456d-a24b-652319a0170c",
   "metadata": {},
   "source": [
    "there are two ways to Retieve images:\n",
    "1. The first way uses BeautifulSoup to find the image within an website \n",
    "2. The second way uses a Google API to do a google image search"
   ]
  },
  {
   "cell_type": "markdown",
   "id": "cf939be8-c9f3-4ca1-80da-46a5304de1bd",
   "metadata": {},
   "source": [
    "### First way: Using BeautifulSoup and Wikipedia"
   ]
  },
  {
   "cell_type": "code",
   "execution_count": 48,
   "id": "230faf5c-35ee-4bc2-be29-6f5d36b49b74",
   "metadata": {},
   "outputs": [],
   "source": [
    "def wiki_pic(common_name):\n",
    "    # Make a GET request to the Wikipedia page\n",
    "    url = f\"https://en.wikipedia.org/wiki/{common_name}\"\n",
    "    common_name = common_name.replace(\" \", \"_\")\n",
    "    response = requests.get(url)\n",
    "    # Parse the HTML content using BeautifulSoup\n",
    "    soup = BeautifulSoup(response.text, \"html.parser\")\n",
    "    # Find the infobox table with either class name\n",
    "    infobox = soup.find(\"table\", class_=[\"infobox biota\", \"taxobox\"])\n",
    "    # if there is an infobox find image\n",
    "    if infobox:\n",
    "        # Find the image link within the infobox table\n",
    "        image = infobox.find(\"img\")\n",
    "        # Get the source URL of the image\n",
    "        image_url = image[\"src\"]\n",
    "        # Make a GET request to the image URL\n",
    "        response = requests.get(\"https:\" + image_url)\n",
    "        picture_url = (\"https:\" + image_url)\n",
    "    # if no infobox they are usually in a div called thmbinner\n",
    "    else:\n",
    "        picbox = soup.find(\"div\", class_=[\"thumbinner\"])\n",
    "        if picbox:\n",
    "            # Find the first image in the thumbinner div\n",
    "            image2 = picbox.find(\"img\")\n",
    "            # Get the source URL of the image\n",
    "            image_url = image2[\"src\"]\n",
    "            # Make a GET request to the image URL\n",
    "            response = requests.get(\"https:\" + image_url)\n",
    "            picture_url = (\"https:\" + image_url)\n",
    "        else:\n",
    "            return \"image not found\"  \n",
    "    #return(picture_url)\n",
    "    display(Image(url=picture_url))"
   ]
  },
  {
   "cell_type": "code",
   "execution_count": 68,
   "id": "ba215cf3-7861-4f22-b3c4-bd12e8476eb1",
   "metadata": {},
   "outputs": [
    {
     "data": {
      "text/html": [
       "<img src=\"https://upload.wikimedia.org/wikipedia/commons/thumb/a/a7/Allen%27s_Hummingbird_Guarding_Flower_Patch.jpg/220px-Allen%27s_Hummingbird_Guarding_Flower_Patch.jpg\"/>"
      ],
      "text/plain": [
       "<IPython.core.display.Image object>"
      ]
     },
     "metadata": {},
     "output_type": "display_data"
    }
   ],
   "source": [
    "wiki_pic(\"Allen's Hummingbird\")"
   ]
  },
  {
   "cell_type": "markdown",
   "id": "d5f8d60f-52b6-428f-bafe-82f490ac0093",
   "metadata": {},
   "source": [
    "### Second way: Using Google Image Search"
   ]
  },
  {
   "cell_type": "code",
   "execution_count": null,
   "id": "ff541ed1-c4e0-42fe-97bb-f77927acfaad",
   "metadata": {},
   "outputs": [],
   "source": [
    "# import the following \n",
    "from google_images_search import GoogleImagesSearch"
   ]
  },
  {
   "cell_type": "code",
   "execution_count": 51,
   "id": "438ff992-1c3a-4d8c-ae90-f0309607502e",
   "metadata": {},
   "outputs": [],
   "source": [
    "#First define your google image API Key and CX Key \n",
    "google_apikey = \"your google apikey here \"\n",
    "google_CX = \"your google cx here\" "
   ]
  },
  {
   "cell_type": "code",
   "execution_count": 52,
   "id": "5fc48567-c275-4115-9200-db910d2c2fd7",
   "metadata": {},
   "outputs": [],
   "source": [
    "def google_API_pic(common_name):\n",
    "    # Initialize GoogleImagesSearch object\n",
    "    gis = GoogleImagesSearch(google_apikey, google_CX)\n",
    "    # Set search parameters\n",
    "    _search_params = {\n",
    "        # + bird is added to ensure that only bird images get retieved or else you would retieve TV images if merlin is search or sports team logos etc\n",
    "        \"q\": common_name + \" bird\",\n",
    "        \"imgSize\": \"large\",\n",
    "        \"num\": 1\n",
    "    }\n",
    "    # Search for images\n",
    "    gis.search(search_params=_search_params)\n",
    "    # Get image URL\n",
    "    image_url = gis.results()[0].url\n",
    "    pic = requests.get(image_url)\n",
    "    # Display image in notebook\n",
    "    return Image(pic.content)"
   ]
  },
  {
   "cell_type": "markdown",
   "id": "9693eb48-2f04-4b83-baf3-4ea9d20ef7e9",
   "metadata": {},
   "source": [
    "# Encode the images for mapping! \n"
   ]
  },
  {
   "cell_type": "markdown",
   "id": "1b0ef312-4de0-4419-a3cd-715f5943740e",
   "metadata": {},
   "source": [
    "We are soon going to define some mapping functions however, we will want to use these functions to import the images of the birds into the map markers/popups. \n",
    "\n",
    "In order to do so we must encode the images. This will use [base64](https://docs.python.org/3/library/base64.html)"
   ]
  },
  {
   "cell_type": "code",
   "execution_count": 53,
   "id": "6d58ba39-cddf-4f2b-a785-ff5fc1f43dfb",
   "metadata": {},
   "outputs": [],
   "source": [
    "#import the following \n",
    "import base64"
   ]
  },
  {
   "cell_type": "markdown",
   "id": "a178bfbf-05c4-4f29-95de-5c14a94aae23",
   "metadata": {},
   "source": [
    "## For Wiki images "
   ]
  },
  {
   "cell_type": "code",
   "execution_count": 69,
   "id": "4b3cfa72-1dd9-476b-b70d-88a349aaab0f",
   "metadata": {},
   "outputs": [],
   "source": [
    "def wiki_pic_map(common_name):\n",
    "    # Make a GET request to the Wikipedia page\n",
    "    url = f\"https://en.wikipedia.org/wiki/{common_name}\"\n",
    "    common_name = common_name.replace(\" \", \"_\")\n",
    "    response = requests.get(url)\n",
    "    # Parse the HTML content using BeautifulSoup\n",
    "    soup = BeautifulSoup(response.text, \"html.parser\")\n",
    "    # Find the infobox table with either class name\n",
    "    infobox = soup.find(\"table\", class_=[\"infobox biota\", \"taxobox\"])\n",
    "    # Find the first image in the infobox table, if it exists\n",
    "    if infobox:\n",
    "        # Find the image link within the infobox table\n",
    "        image = infobox.find(\"img\")\n",
    "        # Get the URL of the image\n",
    "        image_url = image[\"src\"]\n",
    "        response = requests.get(\"https:\" + image_url)\n",
    "        # Encode the image content as base64\n",
    "        image_data = base64.b64encode(response.content).decode()\n",
    "        # Returnimage data\n",
    "        return image_data\n",
    "    # If there is no image in the infobox table, look for the first image in the thumbinner div\n",
    "    else:\n",
    "        picbox = soup.find(\"div\", class_=[\"thumbinner\"])\n",
    "        if picbox:\n",
    "            # Find the first image in the thumbinner div\n",
    "            image2 = picbox.find(\"img\")\n",
    "            # Get the URL of the image\n",
    "            image_url = image2[\"src\"]\n",
    "            response = requests.get(\"https:\" + image_url)\n",
    "            # Encode the image content as base64\n",
    "            image_data = base64.b64encode(response.content).decode()\n",
    "            # Return image data\n",
    "            return image_data\n",
    "        # If no image is found, return None\n",
    "        else:\n",
    "            return None "
   ]
  },
  {
   "cell_type": "markdown",
   "id": "595446a1-effd-46df-99fb-1b1676e2cd7f",
   "metadata": {},
   "source": [
    "## For Google images "
   ]
  },
  {
   "cell_type": "code",
   "execution_count": 70,
   "id": "5e87e87a-00a2-4f32-bb5f-2cca021d5159",
   "metadata": {},
   "outputs": [],
   "source": [
    "def google_API_pic4map(common_name):\n",
    "    # Initialize GoogleImagesSearch object\n",
    "    gis = GoogleImagesSearch(google_apikey, google_CX)\n",
    "\n",
    "    # Set search parameters\n",
    "    _search_params = {\n",
    "        \"q\": common_name + \" bird\",\n",
    "        \"imgSize\": \"large\",\n",
    "        \"num\": 1\n",
    "    }\n",
    "\n",
    "    # Search for images\n",
    "    gis.search(search_params=_search_params)\n",
    "    image_data = requests.get(gis.results()[0].url).content\n",
    "    # Encode image data as base64\n",
    "    image_base64 = base64.b64encode(image_data).decode()\n",
    "    \n",
    "    return image_base64"
   ]
  },
  {
   "cell_type": "markdown",
   "id": "6dcfac73-38dd-4418-86b9-47a526c69982",
   "metadata": {},
   "source": [
    "# Lets Map!"
   ]
  },
  {
   "cell_type": "markdown",
   "id": "666f94de-0316-465e-8f28-82fb0ecd19ce",
   "metadata": {},
   "source": [
    "For our maps we will use some of the functions defined earlier in this lab. \n",
    "\n",
    "- **bird_description** will be used to pull a descrption of the bird for the marker popup \n",
    "- **wiki_pic_map** or **google_API_pic4map** will be used to retieve a picture of the mapped bird for the marker popup"
   ]
  },
  {
   "cell_type": "markdown",
   "id": "e3c74abd-4e90-465f-a02a-145b93524ca3",
   "metadata": {},
   "source": [
    "### Our first function will find ***nearby birds*** \n",
    "\n",
    "- this function takes the coordinates of any location and a radius distance"
   ]
  },
  {
   "cell_type": "code",
   "execution_count": 75,
   "id": "ad167c4f-88a5-4ac9-89aa-2d062e3437aa",
   "metadata": {},
   "outputs": [],
   "source": [
    "def nearby_observations(lat, lng, distance_km):\n",
    "    # Define the API endpoint URL\n",
    "    #dis = 15km \n",
    "    url = f'https://api.ebird.org/v2/data/obs/geo/recent?lat={lat}&lng={lng}&dist={distance_km}&cat=species&fmt=json'\n",
    "\n",
    "    #API inp\n",
    "    headers = {'X-eBirdApiToken': ebird_api_key}\n",
    "    response = requests.get(url, headers=headers)\n",
    "\n",
    "    data = response.json()\n",
    "    \n",
    "    bird_map = folium.Map(location=[lat, lng], zoom_start=10)\n",
    "\n",
    "    # Loop through the data and add markers for each bird sighting\n",
    "    for obs in data:\n",
    "        bird_name = obs['comName']\n",
    "        sci_name = obs['sciName']\n",
    "        obs_date = obs['obsDt']\n",
    "        location = [obs['lat'], obs['lng']]\n",
    "        popup_text = f\"<b>{bird_name}</b><br>{sci_name}</br><br>Date:{obs_date}</br>\"\n",
    "            \n",
    " # Get bird description\n",
    "        bird_description_text = bird_description(bird_name)\n",
    " # this function defaults to using wiki_pic_map however it can be replace with google_API_pic4map. \n",
    "        #google_API_pic4map is better if the user doesnt have a limit in querys as it is more reliable \n",
    "        # to use the function replace the next line of code with \" bird_image_data = google_API_pic4map(bird_name)\n",
    "        bird_image_data = wiki_pic_map(bird_name)\n",
    "        \n",
    "        # Create custom HTML popup\n",
    "        popup_html = f\"\"\"\n",
    "        <h4>{bird_name}</h4>\n",
    "        <img src=\"data:image/jpeg;base64,{bird_image_data}\" style=\"max-width:100%;max-height:100%\">\n",
    "        <h5><p><b>Scientific name:</b> {sci_name}</p></h5>\n",
    "        <p><b>Date:</b> {obs_date}</p>\n",
    "        <p><b>Description:</b> {bird_description_text}</p>\n",
    "        \"\"\"\n",
    "        \n",
    "        marker = folium.Marker(location=location, popup=folium.Popup(popup_html, max_width=400))\n",
    "        marker.add_to(bird_map)\n",
    "\n",
    "    return bird_map\n",
    "\n",
    "\n"
   ]
  },
  {
   "cell_type": "code",
   "execution_count": null,
   "id": "66733051-4b8e-4a4f-b5a9-f46d6a2e0f2b",
   "metadata": {},
   "outputs": [],
   "source": [
    "nearby_observations('45.977083', '-66.672496', '10')"
   ]
  },
  {
   "cell_type": "markdown",
   "id": "d1908ea0-923c-43d0-a92d-61ef569d9186",
   "metadata": {},
   "source": [
    "### Our next function will find ***nearby sighting of a specific species***\n",
    "\n",
    "- this function takes the coordinates of any location and the birds scientific name \n",
    "- it has a default radius of 10km"
   ]
  },
  {
   "cell_type": "code",
   "execution_count": 59,
   "id": "00b7f812-fad4-4e2c-a1d1-05470fe71557",
   "metadata": {},
   "outputs": [],
   "source": [
    "def nearby_bird(lat, lng, sci_name):\n",
    "    # Define the API endpoint URL\n",
    "    #dis = 10km\n",
    "    url = f'https://api.ebird.org/v2/data/obs/geo/recent?lat={lat}&lng={lng}&dist=10&sci={sci_name}&fmt=json'\n",
    "\n",
    "    headers = {'X-eBirdApiToken': ebird_api_key}\n",
    "    response = requests.get(url, headers=headers)\n",
    "    data = response.json()\n",
    "\n",
    "    bird_map = folium.Map(location=[lat, lng], zoom_start=10)\n",
    "\n",
    "    for obs in data:\n",
    "        bird_name = obs['comName']\n",
    "        sci_name = obs['sciName']\n",
    "        obs_date = obs['obsDt']\n",
    "        location = [obs['lat'], obs['lng']]\n",
    "        \n",
    "        # Get bird description\n",
    "        bird_description_text = bird_description(bird_name)\n",
    "         # this function defaults to using wiki_pic_map however it can be replace with google_API_pic4map. \n",
    "        #google_API_pic4map is better if the user doesnt have a limit in querys as it is more reliable \n",
    "        # to use the function replace the next line of code with \" bird_image_data = google_API_pic4map(bird_name)\n",
    "        bird_image_data = wiki_pic_map(bird_name)\n",
    "        \n",
    "        # Create custom HTML popup\n",
    "        popup_html = f\"\"\"\n",
    "        <h4>{bird_name}</h4>\n",
    "        <img src=\"data:image/jpeg;base64,{bird_image_data}\"style=\"max-width:100%;max-height:100%\">\n",
    "        <h5><p><b>Scientific name:</b> {sci_name}</p></h5>\n",
    "        <p><b>Date:</b> {obs_date}</p>\n",
    "        <p><b>Description:</b> {bird_description_text}</p>\n",
    "        \"\"\"\n",
    "        \n",
    "        marker = folium.Marker(location=location, popup=folium.Popup(popup_html, max_width=400))\n",
    "        marker.add_to(bird_map)\n",
    "\n",
    "    return bird_map"
   ]
  },
  {
   "cell_type": "markdown",
   "id": "7ad11c6e-5d37-470e-9594-7febb6c583c8",
   "metadata": {},
   "source": [
    "### Our next function will find ***nearby sighting of notable species***\n",
    "- this function takes the coordinates of any location and a specified radius in km"
   ]
  },
  {
   "cell_type": "code",
   "execution_count": 60,
   "id": "48637fef-c3a8-4137-9811-4a70a4da5171",
   "metadata": {},
   "outputs": [],
   "source": [
    "def notable_bird(lat, lng, distance_km):\n",
    "    # Define the API endpoint URL\n",
    "  \n",
    "    url =f'https://api.ebird.org/v2/data/obs/geo/recent/notable?lat={lat}&lng={lng}&dist={distance_km}&fmt=json'\n",
    "\n",
    "    # Add API key to the request headers\n",
    "    headers = {'X-eBirdApiToken': ebird_api_key}\n",
    "\n",
    "    # Send GET request to API endpoint\n",
    "    response = requests.get(url, headers=headers)\n",
    "\n",
    "    # Convert response to JSON format\n",
    "    data = response.json()\n",
    "\n",
    "    # Create a map centered at the inputted lat/lng\n",
    "    bird_map = folium.Map(location=[lat, lng], zoom_start=10)\n",
    "\n",
    "    for obs in data:\n",
    "        bird_name = obs['comName']\n",
    "        sci_name = obs['sciName']\n",
    "        obs_date = obs['obsDt']\n",
    "        location = [obs['lat'], obs['lng']]\n",
    "        \n",
    "        # Get bird description\n",
    "        bird_description_text = bird_description(bird_name)\n",
    "        #if bird_description_text == \"Bird not found on Audubon Bird Guide. The guide only has access to birds of North America. If the bird is in North America, check spelling\":\n",
    "          #  bird_description_text = sci_des(sci_name)\n",
    "        bird_image_data = wiki_pic_map(bird_name)\n",
    "        \n",
    "        # Create custom HTML popup\n",
    "        popup_html = f\"\"\"\n",
    "        <h4>{bird_name}</h4>\n",
    "        <img src=\"data:image/jpeg;base64,{bird_image_data}\"style=\"max-width:100%;max-height:100%\">\n",
    "        <h5><p><b>Scientific name:</b> {sci_name}</p></h5>\n",
    "        <p><b>Date:</b> {obs_date}</p>\n",
    "        <p><b>Description:</b> {bird_description_text}</p>\n",
    "        \"\"\"\n",
    "        \n",
    "        marker = folium.Marker(location=location, popup=folium.Popup(popup_html, max_width=400))\n",
    "        marker.add_to(bird_map)\n",
    "\n",
    "    return bird_map\n"
   ]
  },
  {
   "cell_type": "markdown",
   "id": "b686ac32-2a88-48e7-b05d-c7072daade4d",
   "metadata": {},
   "source": [
    "### Our last mapping function will find ***nearby birding hotspots***\n",
    "\n",
    "- Hotspots represent a set of public locations that people regularly visit for birding, regardless of how amazing they are for birds. The primary requirement of a Hotspot is that it is publicly accessible\n",
    "- this function is great for those wondering where others frequently birdwatch at"
   ]
  },
  {
   "cell_type": "code",
   "execution_count": 61,
   "id": "1991a2a9-9e3d-4e43-9de6-c65ae9c45cd5",
   "metadata": {},
   "outputs": [],
   "source": [
    "def get_hotspot(lat, lng):\n",
    "    url = f'https://api.ebird.org/v2/ref/hotspot/geo?lat={lat}&lng={lng}&dist=5&fmt=json'\n",
    "    headers = {'X-eBirdApiToken': '<your_eBird_API_token_here>'}\n",
    "    response = requests.get(url, headers=headers)\n",
    "    data = response.json()\n",
    "    bird_map = folium.Map(location=[lat, lng], zoom_start=13)\n",
    "\n",
    "    for obs in data:\n",
    "        loc_id = obs['locId']\n",
    "        #then use the api to go find the hotspot information so it can be put into the markers \n",
    "        hotspot_url = f\"https://api.ebird.org/v2/ref/hotspot/info/{loc_id}\"\n",
    "        hotspot_response = requests.get(hotspot_url, headers=headers)\n",
    "        hotspot_data = hotspot_response.json()\n",
    "        if hotspot_response.status_code == 200:\n",
    "            # Create popup text with hotspot info\n",
    "            popup_text = f\"<b> Name: </b><br>{hotspot_data['name']}</br>\" \\\n",
    "                         f\"<b>Region:</b><br>{hotspot_data['subnational2Name']}</br>\" \\\n",
    "                         f\"<b>Province/State:</b><br>{hotspot_data['subnational1Name']}</br>\" \\\n",
    "                         f\"<b>Country:</b><br>{hotspot_data['countryCode']}</br>\" \\\n",
    "                         f\"<b>Latitude & Longitude:</b><br>{hotspot_data['latitude']}, {hotspot_data['longitude']}</br>\"\\\n",
    "            \n",
    "        else:\n",
    "            popup_text = \"Error getting hotspot info\"\n",
    "            location = obs['lat'], obs['lng']\n",
    "            marker = folium.Marker(location=location, popup=popup_text)\n",
    "            marker.add_to(bird_map)\n",
    "\n",
    "    return bird_map"
   ]
  },
  {
   "cell_type": "code",
   "execution_count": null,
   "id": "67d53806-039b-49bc-9fb0-886860801a71",
   "metadata": {},
   "outputs": [],
   "source": []
  }
 ],
 "metadata": {
  "kernelspec": {
   "display_name": "Python 3 (ipykernel)",
   "language": "python",
   "name": "python3"
  },
  "language_info": {
   "codemirror_mode": {
    "name": "ipython",
    "version": 3
   },
   "file_extension": ".py",
   "mimetype": "text/x-python",
   "name": "python",
   "nbconvert_exporter": "python",
   "pygments_lexer": "ipython3",
   "version": "3.11.1"
  }
 },
 "nbformat": 4,
 "nbformat_minor": 5
}
