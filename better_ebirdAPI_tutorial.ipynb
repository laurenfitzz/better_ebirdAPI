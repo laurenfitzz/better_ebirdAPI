{
 "cells": [
  {
   "cell_type": "code",
   "execution_count": null,
   "id": "fc5afb68-f929-4975-bf5f-a482465b99c2",
   "metadata": {},
   "outputs": [],
   "source": []
  },
  {
   "cell_type": "markdown",
   "id": "9bfe7f2d",
   "metadata": {},
   "source": []
  },
  {
   "cell_type": "markdown",
   "id": "732350fb-a053-4b25-8e4a-d4ee1d386e16",
   "metadata": {},
   "source": [
    "Install and import the following packages "
   ]
  },
  {
   "cell_type": "code",
   "execution_count": null,
   "id": "836f0f47-9837-4fb6-a564-164f52db5594",
   "metadata": {},
   "outputs": [],
   "source": [
    "import pandas as pd\n",
    "import IPython \n",
    "import geopandas as gpd\n",
    "import matplotlib\n",
    "import requests\n",
    "import bs4\n",
    "from bs4 import BeautifulSoup\n",
    "import json\n",
    "import folium\n",
    "import requests\n",
    "from google_images_search import GoogleImagesSearch\n",
    "from IPython.display import Image"
   ]
  },
  {
   "cell_type": "code",
   "execution_count": 1,
   "id": "ecd1818f-2001-4378-a7c5-24076b1d8e5b",
   "metadata": {},
   "outputs": [
    {
     "name": "stdout",
     "output_type": "stream",
     "text": [
      "\u001b[31mERROR: Could not find a version that satisfies the requirement better_ebirdAPI (from versions: none)\u001b[0m\u001b[31m\n",
      "\u001b[0m\u001b[31mERROR: No matching distribution found for better_ebirdAPI\u001b[0m\u001b[31m\n",
      "\u001b[0m"
     ]
    }
   ],
   "source": [
    "#Install the better_ebirdAPI\n",
    "#its not a package yet because i need figure that out so this doesnt work \n",
    "!pip install better_ebirdAPI\n"
   ]
  },
  {
   "cell_type": "code",
   "execution_count": null,
   "id": "f087d254-8e00-4abc-b8be-04838ba2d640",
   "metadata": {},
   "outputs": [],
   "source": [
    "# Define all necessary API and CX keys\n",
    "# if you dont have access to google API that is okay, you just wont be able to use the functions coded with 'GAPI'\n",
    "google_apikey = \"paste your google api key here\"\n",
    "google_CX = \"paste your google CX here\"\n",
    "ebird_api_key = \"paste your ebird API key here\""
   ]
  },
  {
   "cell_type": "code",
   "execution_count": null,
   "id": "39c9956a-f79d-43c4-ae53-7ff5fa3ed910",
   "metadata": {},
   "outputs": [],
   "source": [
    "# read the following csv file. this is necessary for the following fuctions: com_to_sci, sci_to_com, list_types\n",
    "species_data = pd.read_csv(\"PFW-species-translation-table.csv\")\n",
    "species_data"
   ]
  }
 ],
 "metadata": {
  "kernelspec": {
   "display_name": "Python 3 (ipykernel)",
   "language": "python",
   "name": "python3"
  },
  "language_info": {
   "codemirror_mode": {
    "name": "ipython",
    "version": 3
   },
   "file_extension": ".py",
   "mimetype": "text/x-python",
   "name": "python",
   "nbconvert_exporter": "python",
   "pygments_lexer": "ipython3",
   "version": "3.11.1"
  }
 },
 "nbformat": 4,
 "nbformat_minor": 5
}
