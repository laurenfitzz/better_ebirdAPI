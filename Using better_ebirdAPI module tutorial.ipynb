{
 "cells": [
  {
   "cell_type": "markdown",
   "id": "67670693-f355-4dd4-9bee-db2ca1c6ee82",
   "metadata": {},
   "source": [
    "# Using better_ebirdAPI Package: Tutorial"
   ]
  },
  {
   "cell_type": "markdown",
   "id": "2236f6dc-c43d-4a8c-9860-24136f34a84b",
   "metadata": {},
   "source": [
    "- Ensure you have the nesessary API keys. To use this most functions in this package the user must have a ebirdAPI 2.0 key. \n",
    "- All functions which names contain GAPI require a google API key and CX. \n",
    "- ensure that all of the necessary packages are installed (pandas, geopandas, requests, json, folium, bs4, IPython, google_images_search & base64) "
   ]
  },
  {
   "cell_type": "markdown",
   "id": "33b4fd44-df4b-4159-8060-79776f9ebc26",
   "metadata": {},
   "source": [
    "#### Define Your Api Keys "
   ]
  },
  {
   "cell_type": "code",
   "execution_count": null,
   "id": "1ddd8d36-d9ff-41ae-a20d-118e4d76c7d7",
   "metadata": {},
   "outputs": [],
   "source": [
    "google_apikey = \"\"\n",
    "google_CX = \"\"\n",
    "ebird_api_key = \"\""
   ]
  },
  {
   "cell_type": "markdown",
   "id": "d48bc5c8-a574-4deb-89d8-ff3d3206af49",
   "metadata": {},
   "source": [
    "#### Ensure you have the necessary data"
   ]
  },
  {
   "cell_type": "markdown",
   "id": "085a7559-9608-4345-923b-ac52cc430665",
   "metadata": {},
   "source": [
    "- ensure that \"PFW-species-translation-table.csv\" is downloaded and in your working envrionment\n",
    "- the functions wich require this data will automatically read it as species_data however feel free to explore the file!\n",
    "    - this can be done by importing **pandas as pd**: \n",
    "    - and reading the file: **species_data = pd.read_csv(\"PFW-species-translation-table.csv\"**"
   ]
  },
  {
   "cell_type": "markdown",
   "id": "e6b2ef84-0575-46aa-aeb0-dc63c21b0f36",
   "metadata": {},
   "source": [
    "#### Now Import the Package"
   ]
  },
  {
   "cell_type": "code",
   "execution_count": null,
   "id": "8822a0a3-539b-487c-8e28-7bb34a44827c",
   "metadata": {},
   "outputs": [],
   "source": [
    "import better_ebirdAPI"
   ]
  },
  {
   "cell_type": "markdown",
   "id": "ba196516-43aa-461b-a1d7-83fa018813e8",
   "metadata": {},
   "source": [
    "#### And all its functions "
   ]
  },
  {
   "cell_type": "code",
   "execution_count": null,
   "id": "07a6621d-8820-49da-96cb-ec27f2ff9185",
   "metadata": {},
   "outputs": [],
   "source": [
    "from better_ebirdAPI import *"
   ]
  },
  {
   "cell_type": "markdown",
   "id": "10533968-b84d-40a1-958d-10b0dc6459bc",
   "metadata": {},
   "source": [
    "#### Inspect the package with 'dir' and 'help'"
   ]
  },
  {
   "cell_type": "code",
   "execution_count": null,
   "id": "02147c59-e967-49a9-ace6-a6a6b509a707",
   "metadata": {},
   "outputs": [],
   "source": [
    "dir(better_ebirdAPI)"
   ]
  },
  {
   "cell_type": "code",
   "execution_count": null,
   "id": "c9745838-9d17-4b4c-ab4d-fbe43e83066c",
   "metadata": {},
   "outputs": [],
   "source": [
    "help(better_ebirdAPI)"
   ]
  },
  {
   "cell_type": "markdown",
   "id": "2b5198f0-0df2-4a28-baa8-58b5c7a2f773",
   "metadata": {},
   "source": [
    "## Now discover the wonders of birds!"
   ]
  },
  {
   "cell_type": "code",
   "execution_count": null,
   "id": "5211fcdd-b853-4943-82d3-6208e62c9c63",
   "metadata": {},
   "outputs": [],
   "source": [
    "#1 example \n",
    "com_to_sci('sandhill crane')"
   ]
  },
  {
   "cell_type": "code",
   "execution_count": null,
   "id": "335e95fb-f786-4a1b-8f63-81b195f98b1e",
   "metadata": {},
   "outputs": [],
   "source": [
    "#Try it!\n",
    "com_to_sci('common_name')"
   ]
  },
  {
   "cell_type": "code",
   "execution_count": null,
   "id": "48715cb8-506d-4a72-949e-b94b0e9711da",
   "metadata": {},
   "outputs": [],
   "source": [
    "#2 example\n",
    "sci_to_com('Troglodytes aedon')"
   ]
  },
  {
   "cell_type": "code",
   "execution_count": null,
   "id": "1c436130-6d07-427d-830b-9a46394c224d",
   "metadata": {},
   "outputs": [],
   "source": [
    "#Try it\n",
    "sci_to_com('scientfic_name')"
   ]
  },
  {
   "cell_type": "code",
   "execution_count": null,
   "id": "efff6765-faa4-4659-9f1a-4ddc47588ae6",
   "metadata": {},
   "outputs": [],
   "source": [
    "#3 example \n",
    "list_types('duck')"
   ]
  },
  {
   "cell_type": "code",
   "execution_count": null,
   "id": "a84eb2f0-fd54-4cdf-84f5-b45413ffd1cc",
   "metadata": {},
   "outputs": [],
   "source": [
    "#Try it\n",
    "list_types('kind')"
   ]
  },
  {
   "cell_type": "code",
   "execution_count": null,
   "id": "ee41169d-f113-4436-9f8e-82eaef219017",
   "metadata": {},
   "outputs": [],
   "source": [
    "#4 Example\n",
    "bird_description('chestnut-fronted macaw')"
   ]
  },
  {
   "cell_type": "code",
   "execution_count": null,
   "id": "14ee726a-30b1-47f8-8214-c4a8422b9cb5",
   "metadata": {},
   "outputs": [],
   "source": [
    "#Try it!\n",
    "bird_description('common_name')"
   ]
  },
  {
   "cell_type": "code",
   "execution_count": null,
   "id": "4b5840fe-3654-4f1f-b7cf-66e97d0dd787",
   "metadata": {},
   "outputs": [],
   "source": [
    "#5 Example \n",
    "wiki_pic('peregrine falcon')"
   ]
  },
  {
   "cell_type": "code",
   "execution_count": null,
   "id": "138bb6ed-5184-4915-a92d-788c4d6fe155",
   "metadata": {},
   "outputs": [],
   "source": [
    "#5 Try it!\n",
    "wiki_pic('common_name')"
   ]
  },
  {
   "cell_type": "markdown",
   "id": "e2905c81-9edc-4930-a448-0ebb19171358",
   "metadata": {},
   "source": [
    "#### The following functions require a ebird2.0 API key "
   ]
  },
  {
   "cell_type": "code",
   "execution_count": null,
   "id": "0addfe65-2c03-4924-8f34-dee01279306c",
   "metadata": {},
   "outputs": [],
   "source": [
    "#6\n",
    "retrieve_species_data('scientific_name', 'ebird_api_key')"
   ]
  },
  {
   "cell_type": "code",
   "execution_count": null,
   "id": "212680ad-da5f-4a48-8e30-c9da10def136",
   "metadata": {},
   "outputs": [],
   "source": [
    "#7\n",
    "nearby_observations('lat', 'lng', 'distance_km', 'ebird_api_key')"
   ]
  },
  {
   "cell_type": "code",
   "execution_count": null,
   "id": "7199b8cf-c088-41f8-bc14-8b4aecfdeec5",
   "metadata": {},
   "outputs": [],
   "source": [
    "#8\n",
    "nearby_bird('lat', 'lng', 'distance_km', 'scientific_name', 'ebird_api_key')"
   ]
  },
  {
   "cell_type": "code",
   "execution_count": null,
   "id": "0fa7e97b-5894-4d31-873e-1e0078f1383b",
   "metadata": {},
   "outputs": [],
   "source": [
    "#9 \n",
    "notable_bird('lat', 'lng', 'distance_km', 'ebird_api_key')"
   ]
  },
  {
   "cell_type": "code",
   "execution_count": null,
   "id": "acc448ca-2ae6-4750-8599-9ec84dfa6321",
   "metadata": {},
   "outputs": [],
   "source": [
    "#10\n",
    "gethotspot(\"lat\", \"lng\", \"ebird_api_key\")"
   ]
  }
 ],
 "metadata": {
  "kernelspec": {
   "display_name": "Python 3 (ipykernel)",
   "language": "python",
   "name": "python3"
  },
  "language_info": {
   "codemirror_mode": {
    "name": "ipython",
    "version": 3
   },
   "file_extension": ".py",
   "mimetype": "text/x-python",
   "name": "python",
   "nbconvert_exporter": "python",
   "pygments_lexer": "ipython3",
   "version": "3.11.1"
  }
 },
 "nbformat": 4,
 "nbformat_minor": 5
}
